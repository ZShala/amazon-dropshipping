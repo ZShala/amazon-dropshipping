{
 "cells": [
  {
   "cell_type": "markdown",
   "id": "43aa90f4",
   "metadata": {},
   "source": []
  },
  {
   "cell_type": "code",
   "execution_count": 36,
   "id": "e1878bd0",
   "metadata": {},
   "outputs": [
    {
     "name": "stdout",
     "output_type": "stream",
     "text": [
      "Product ID: B00FZH4126\n",
      "Product Type: Lipstick\n",
      "Rating: 5\n"
     ]
    },
    {
     "data": {
      "text/html": [
       "<img src=\"https://m.media-amazon.com/images/I/41EdTCskwOL._SX300_SY300_QL70_ML2_.jpg\"/>"
      ],
      "text/plain": [
       "<IPython.core.display.Image object>"
      ]
     },
     "metadata": {},
     "output_type": "display_data"
    },
    {
     "name": "stdout",
     "output_type": "stream",
     "text": [
      "Product ID: B00FZESMKG\n",
      "Product Type: Lipstick\n",
      "Rating: 5\n"
     ]
    },
    {
     "data": {
      "text/html": [
       "<img src=\"https://m.media-amazon.com/images/I/31j5hNndVTL._SX300_SY300_QL70_ML2_.jpg\"/>"
      ],
      "text/plain": [
       "<IPython.core.display.Image object>"
      ]
     },
     "metadata": {},
     "output_type": "display_data"
    },
    {
     "name": "stdout",
     "output_type": "stream",
     "text": [
      "Product ID: B00FZ84P7Q\n",
      "Product Type: Lipstick\n",
      "Rating: 5\n"
     ]
    },
    {
     "data": {
      "text/html": [
       "<img src=\"https://m.media-amazon.com/images/I/31Rl0Y1BVtL._SX300_SY300_QL70_ML2_.jpg\"/>"
      ],
      "text/plain": [
       "<IPython.core.display.Image object>"
      ]
     },
     "metadata": {},
     "output_type": "display_data"
    },
    {
     "name": "stdout",
     "output_type": "stream",
     "text": [
      "Product ID: B00FZ1CGME\n",
      "Product Type: Lipstick\n",
      "Rating: 5\n"
     ]
    },
    {
     "data": {
      "text/html": [
       "<img src=\"https://m.media-amazon.com/images/I/31YMN9TZMzL._SX300_SY300_QL70_ML2_.jpg\"/>"
      ],
      "text/plain": [
       "<IPython.core.display.Image object>"
      ]
     },
     "metadata": {},
     "output_type": "display_data"
    },
    {
     "name": "stdout",
     "output_type": "stream",
     "text": [
      "Product ID: B00FYPL3N4\n",
      "Product Type: Lipstick\n",
      "Rating: 5\n"
     ]
    },
    {
     "data": {
      "text/html": [
       "<img src=\"https://m.media-amazon.com/images/I/31YdqKi78VL._SX300_SY300_QL70_ML2_.jpg\"/>"
      ],
      "text/plain": [
       "<IPython.core.display.Image object>"
      ]
     },
     "metadata": {},
     "output_type": "display_data"
    },
    {
     "name": "stdout",
     "output_type": "stream",
     "text": [
      "Product ID: B00FYKVM0S\n",
      "Product Type: Lipstick\n",
      "Rating: 5\n"
     ]
    },
    {
     "data": {
      "text/html": [
       "<img src=\"https://m.media-amazon.com/images/I/51R3KDnD6uL._SX300_SY300_QL70_ML2_.jpg\"/>"
      ],
      "text/plain": [
       "<IPython.core.display.Image object>"
      ]
     },
     "metadata": {},
     "output_type": "display_data"
    },
    {
     "name": "stdout",
     "output_type": "stream",
     "text": [
      "Product ID: B00FY435R2\n",
      "Product Type: Lipstick\n",
      "Rating: 5\n"
     ]
    },
    {
     "data": {
      "text/html": [
       "<img src=\"https://m.media-amazon.com/images/I/41zpLfx+VwL._SY300_SX300_.jpg\"/>"
      ],
      "text/plain": [
       "<IPython.core.display.Image object>"
      ]
     },
     "metadata": {},
     "output_type": "display_data"
    },
    {
     "name": "stdout",
     "output_type": "stream",
     "text": [
      "Product ID: B00FXW4GFU\n",
      "Product Type: Lipstick\n",
      "Rating: 5\n"
     ]
    },
    {
     "data": {
      "text/html": [
       "<img src=\"https://m.media-amazon.com/images/I/3115Pez+WEL._SY300_SX300_.jpg\"/>"
      ],
      "text/plain": [
       "<IPython.core.display.Image object>"
      ]
     },
     "metadata": {},
     "output_type": "display_data"
    },
    {
     "name": "stdout",
     "output_type": "stream",
     "text": [
      "Product ID: B00FY8Y14E\n",
      "Product Type: Lipstick\n",
      "Rating: 4\n"
     ]
    },
    {
     "data": {
      "text/html": [
       "<img src=\"https://m.media-amazon.com/images/I/412v-BHG0KL._SX300_SY300_QL70_ML2_.jpg\"/>"
      ],
      "text/plain": [
       "<IPython.core.display.Image object>"
      ]
     },
     "metadata": {},
     "output_type": "display_data"
    },
    {
     "name": "stdout",
     "output_type": "stream",
     "text": [
      "Product ID: B00FYSZDQ4\n",
      "Product Type: Lipstick\n",
      "Rating: 1\n"
     ]
    },
    {
     "data": {
      "text/html": [
       "<img src=\"https://m.media-amazon.com/images/I/41pRZkGO2HL._SX300_SY300_QL70_ML2_.jpg\"/>"
      ],
      "text/plain": [
       "<IPython.core.display.Image object>"
      ]
     },
     "metadata": {},
     "output_type": "display_data"
    }
   ],
   "source": [
    "import pandas as pd\n",
    "import requests\n",
    "from bs4 import BeautifulSoup\n",
    "from sklearn.feature_extraction.text import TfidfVectorizer\n",
    "from sklearn.metrics.pairwise import cosine_similarity\n",
    "from IPython.display import Image, display\n",
    "\n",
    "# Load and clean the dataset\n",
    "df = pd.read_csv('amazon-beauty-recommendation.csv')\n",
    "df_clean = df.dropna(subset=['ProductId', 'ProductType', 'Rating', 'Timestamp', 'URL'])\n",
    "df_clean = df_clean.drop_duplicates(subset=['ProductId'])\n",
    "\n",
    "# Reset the index to ensure it's sequential (to avoid mismatch)\n",
    "df_clean.reset_index(drop=True, inplace=True)\n",
    "\n",
    "# TF-IDF Vectorizer\n",
    "tfidf = TfidfVectorizer(stop_words='english', max_features=1000)\n",
    "tfidf_matrix = tfidf.fit_transform(df_clean['ProductType'])\n",
    "cosine_sim = cosine_similarity(tfidf_matrix, tfidf_matrix)\n",
    "\n",
    "def fetch_image(product_url):\n",
    "    headers = {\n",
    "        \"User-Agent\": \"Mozilla/5.0 (Windows NT 10.0; Win64; x64) AppleWebKit/537.36 (KHTML, like Gecko) Chrome/110.0.0.0 Safari/537.36\"\n",
    "    }\n",
    "    try:\n",
    "        response = requests.get(product_url, headers=headers)\n",
    "        soup = BeautifulSoup(response.content, 'html.parser')\n",
    "        image_tag = soup.find(\"img\", {\"id\": \"landingImage\"})\n",
    "        if image_tag:\n",
    "            return image_tag.get(\"src\")\n",
    "    except Exception as e:\n",
    "        print(f\"Error fetching image for URL {product_url}: {e}\")\n",
    "    return \"https://via.placeholder.com/150\"\n",
    "\n",
    "def get_recommendations_with_images(product_id, cosine_sim=cosine_sim, top_n=10):\n",
    "    # Check if product exists in the DataFrame\n",
    "    if product_id not in df_clean['ProductId'].values:\n",
    "        print(f\"ProductId {product_id} does not exist in the dataset!\")\n",
    "        return []\n",
    "\n",
    "    # Get index for the product\n",
    "    try:\n",
    "        # Get the index in the cleaned dataframe\n",
    "        idx = df_clean.index[df_clean['ProductId'] == product_id].tolist()[0]\n",
    "    except IndexError:\n",
    "        print(f\"ProductId {product_id} not found!\")\n",
    "        return []\n",
    "\n",
    "    # Get similarity scores\n",
    "    sim_scores = list(enumerate(cosine_sim[idx]))\n",
    "    sim_scores = sorted(sim_scores, key=lambda x: x[1], reverse=True)\n",
    "    \n",
    "    # Ensure we don't try to get more than available recommendations\n",
    "    sim_scores = sim_scores[1:top_n+1]  # Get top_n recommendations\n",
    "\n",
    "    product_indices = [i[0] for i in sim_scores]\n",
    "\n",
    "    recommendations = []\n",
    "    for i in product_indices:\n",
    "        # Ensure the index is within bounds\n",
    "        if i < len(df_clean):\n",
    "            try:\n",
    "                product_row = df_clean.iloc[i]\n",
    "                # Combine similarity score with rating (higher rating is more important)\n",
    "                combined_score = sim_scores[product_indices.index(i)][1] * product_row['Rating']\n",
    "                image_url = fetch_image(product_row['URL'])\n",
    "                recommendations.append({\n",
    "                    \"ProductId\": product_row['ProductId'],\n",
    "                    \"ProductType\": product_row['ProductType'],\n",
    "                    \"Rating\": product_row['Rating'],\n",
    "                    \"CombinedScore\": combined_score,\n",
    "                    \"ImageURL\": image_url\n",
    "                })\n",
    "            except IndexError:\n",
    "                continue  # Skip invalid index or handle as necessary\n",
    "\n",
    "    # Sort recommendations by combined score (higher is better)\n",
    "    recommendations = sorted(recommendations, key=lambda x: x['CombinedScore'], reverse=True)\n",
    "\n",
    "    return recommendations\n",
    "\n",
    "# Test the function with a specific product ID (e.g., 'B00KWFDBKE' for mascara)\n",
    "test_product_id = 'B00FYKVM0S'  # Replace with the ProductId you're testing\n",
    "recommended_products = get_recommendations_with_images(test_product_id)\n",
    "\n",
    "# Display recommendations with images\n",
    "if recommended_products:\n",
    "    for product in recommended_products:\n",
    "        print(f\"Product ID: {product['ProductId']}\")\n",
    "        print(f\"Product Type: {product['ProductType']}\")\n",
    "        print(f\"Rating: {product['Rating']}\")\n",
    "        display(Image(url=product['ImageURL']))\n"
   ]
  },
  {
   "cell_type": "code",
   "execution_count": null,
   "id": "fdc92c93",
   "metadata": {},
   "outputs": [],
   "source": []
  },
  {
   "cell_type": "code",
   "execution_count": null,
   "id": "1ed7a865",
   "metadata": {},
   "outputs": [],
   "source": []
  }
 ],
 "metadata": {
  "kernelspec": {
   "display_name": "Python 3 (ipykernel)",
   "language": "python",
   "name": "python3"
  },
  "language_info": {
   "codemirror_mode": {
    "name": "ipython",
    "version": 3
   },
   "file_extension": ".py",
   "mimetype": "text/x-python",
   "name": "python",
   "nbconvert_exporter": "python",
   "pygments_lexer": "ipython3",
   "version": "3.11.5"
  }
 },
 "nbformat": 4,
 "nbformat_minor": 5
}
