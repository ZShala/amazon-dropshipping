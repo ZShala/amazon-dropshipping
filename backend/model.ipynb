{
 "cells": [
  {
   "cell_type": "markdown",
   "id": "43aa90f4",
   "metadata": {},
   "source": []
  },
  {
   "cell_type": "code",
   "execution_count": 2,
   "id": "e1878bd0",
   "metadata": {},
   "outputs": [
    {
     "name": "stdout",
     "output_type": "stream",
     "text": [
      "Product ID: B00LCEROA2\n",
      "Product Type: Eyeliner & Kajal\n",
      "Rating: 5\n"
     ]
    },
    {
     "data": {
      "text/html": [
       "<img src=\"https://m.media-amazon.com/images/I/31930DCKGDL._SX300_SY300_QL70_ML2_.jpg\"/>"
      ],
      "text/plain": [
       "<IPython.core.display.Image object>"
      ]
     },
     "metadata": {},
     "output_type": "display_data"
    },
    {
     "name": "stdout",
     "output_type": "stream",
     "text": [
      "Product ID: B00LAOMUUS\n",
      "Product Type: Eyeliner & Kajal\n",
      "Rating: 5\n"
     ]
    },
    {
     "data": {
      "text/html": [
       "<img src=\"https://m.media-amazon.com/images/I/414Y0kSmcGL._SX300_SY300_QL70_ML2_.jpg\"/>"
      ],
      "text/plain": [
       "<IPython.core.display.Image object>"
      ]
     },
     "metadata": {},
     "output_type": "display_data"
    },
    {
     "name": "stdout",
     "output_type": "stream",
     "text": [
      "Product ID: B00L6Q3BH6\n",
      "Product Type: Eyeliner & Kajal\n",
      "Rating: 5\n"
     ]
    },
    {
     "data": {
      "text/html": [
       "<img src=\"https://m.media-amazon.com/images/I/31H3RGxnFHL._SX300_SY300_QL70_ML2_.jpg\"/>"
      ],
      "text/plain": [
       "<IPython.core.display.Image object>"
      ]
     },
     "metadata": {},
     "output_type": "display_data"
    },
    {
     "name": "stdout",
     "output_type": "stream",
     "text": [
      "Product ID: B00L5JHZJO\n",
      "Product Type: Eyeliner & Kajal\n",
      "Rating: 5\n"
     ]
    },
    {
     "data": {
      "text/html": [
       "<img src=\"https://m.media-amazon.com/images/I/41HYCQtfMrL._SX300_SY300_QL70_ML2_.jpg\"/>"
      ],
      "text/plain": [
       "<IPython.core.display.Image object>"
      ]
     },
     "metadata": {},
     "output_type": "display_data"
    },
    {
     "name": "stdout",
     "output_type": "stream",
     "text": [
      "Product ID: B00L5DI5K8\n",
      "Product Type: Eyeliner & Kajal\n",
      "Rating: 5\n"
     ]
    },
    {
     "data": {
      "text/html": [
       "<img src=\"https://m.media-amazon.com/images/I/31t2n2SeOzL._SX300_SY300_QL70_ML2_.jpg\"/>"
      ],
      "text/plain": [
       "<IPython.core.display.Image object>"
      ]
     },
     "metadata": {},
     "output_type": "display_data"
    },
    {
     "name": "stdout",
     "output_type": "stream",
     "text": [
      "Product ID: B00L3LBUGI\n",
      "Product Type: Eyeliner & Kajal\n",
      "Rating: 5\n"
     ]
    },
    {
     "data": {
      "text/html": [
       "<img src=\"https://m.media-amazon.com/images/I/41vNCsnEZcL._SX300_SY300_QL70_ML2_.jpg\"/>"
      ],
      "text/plain": [
       "<IPython.core.display.Image object>"
      ]
     },
     "metadata": {},
     "output_type": "display_data"
    },
    {
     "name": "stdout",
     "output_type": "stream",
     "text": [
      "Product ID: B00L3KEIZO\n",
      "Product Type: Eyeliner & Kajal\n",
      "Rating: 5\n"
     ]
    },
    {
     "data": {
      "text/html": [
       "<img src=\"https://m.media-amazon.com/images/I/21CZ1g9zqNL._SX300_SY300_QL70_ML2_.jpg\"/>"
      ],
      "text/plain": [
       "<IPython.core.display.Image object>"
      ]
     },
     "metadata": {},
     "output_type": "display_data"
    },
    {
     "name": "stdout",
     "output_type": "stream",
     "text": [
      "Product ID: B00L3K91OW\n",
      "Product Type: Eyeliner & Kajal\n",
      "Rating: 5\n"
     ]
    },
    {
     "data": {
      "text/html": [
       "<img src=\"https://m.media-amazon.com/images/I/41my1s-i4ZL._SX300_SY300_QL70_ML2_.jpg\"/>"
      ],
      "text/plain": [
       "<IPython.core.display.Image object>"
      ]
     },
     "metadata": {},
     "output_type": "display_data"
    },
    {
     "name": "stdout",
     "output_type": "stream",
     "text": [
      "Product ID: B00L1S4D3U\n",
      "Product Type: Eyeliner & Kajal\n",
      "Rating: 4\n"
     ]
    },
    {
     "data": {
      "text/html": [
       "<img src=\"https://m.media-amazon.com/images/I/41qIblE7gwL._SX300_SY300_QL70_ML2_.jpg\"/>"
      ],
      "text/plain": [
       "<IPython.core.display.Image object>"
      ]
     },
     "metadata": {},
     "output_type": "display_data"
    },
    {
     "name": "stdout",
     "output_type": "stream",
     "text": [
      "Product ID: B00L0C529Q\n",
      "Product Type: Eyeliner & Kajal\n",
      "Rating: 5\n"
     ]
    },
    {
     "data": {
      "text/html": [
       "<img src=\"https://m.media-amazon.com/images/I/31d3af70ggL._SX300_SY300_QL70_ML2_.jpg\"/>"
      ],
      "text/plain": [
       "<IPython.core.display.Image object>"
      ]
     },
     "metadata": {},
     "output_type": "display_data"
    }
   ],
   "source": [
    "import pandas as pd\n",
    "import requests\n",
    "from bs4 import BeautifulSoup\n",
    "from sklearn.feature_extraction.text import TfidfVectorizer\n",
    "from sklearn.metrics.pairwise import cosine_similarity\n",
    "from IPython.display import Image, display\n",
    "\n",
    "# Load and clean dataset\n",
    "df = pd.read_csv('amazon-beauty-recommendation.csv')\n",
    "df_clean = df.dropna(subset=['ProductId', 'ProductType', 'Rating', 'Timestamp', 'URL'])\n",
    "df_clean = df_clean.drop_duplicates(subset=['ProductId'])\n",
    "\n",
    "# TF-IDF vectorization\n",
    "tfidf = TfidfVectorizer(stop_words='english', max_features=1000)\n",
    "tfidf_matrix = tfidf.fit_transform(df_clean['ProductType'])\n",
    "cosine_sim = cosine_similarity(tfidf_matrix, tfidf_matrix)\n",
    "\n",
    "# Function to fetch image from product URL\n",
    "def fetch_image(product_url):\n",
    "    headers = {\n",
    "        \"User-Agent\": \"Mozilla/5.0 (Windows NT 10.0; Win64; x64) AppleWebKit/537.36 (KHTML, like Gecko) Chrome/110.0.0.0 Safari/537.36\"\n",
    "    }\n",
    "    try:\n",
    "        response = requests.get(product_url, headers=headers)\n",
    "        soup = BeautifulSoup(response.content, 'html.parser')\n",
    "        image_tag = soup.find(\"img\", {\"id\": \"landingImage\"})  # Adjust the ID if needed\n",
    "        if image_tag:\n",
    "            return image_tag.get(\"src\")\n",
    "    except Exception as e:\n",
    "        print(f\"Error fetching image for URL {product_url}: {e}\")\n",
    "    return \"https://via.placeholder.com/150\"  # Fallback image\n",
    "\n",
    "# Function to get recommendations with images\n",
    "def get_recommendations_with_images(product_id, cosine_sim=cosine_sim):\n",
    "    idx = df_clean.index[df_clean['ProductId'] == product_id].tolist()[0]\n",
    "    sim_scores = list(enumerate(cosine_sim[idx]))\n",
    "    sim_scores = sorted(sim_scores, key=lambda x: x[1], reverse=True)\n",
    "    sim_scores = sim_scores[1:11]\n",
    "    product_indices = [i[0] for i in sim_scores]\n",
    "\n",
    "    recommendations = []\n",
    "    for i in product_indices:\n",
    "        product_row = df_clean.iloc[i]\n",
    "        image_url = fetch_image(product_row['URL'])\n",
    "        recommendations.append({\n",
    "            \"ProductId\": product_row['ProductId'],\n",
    "            \"ProductType\": product_row['ProductType'],\n",
    "            \"Rating\": product_row['Rating'],\n",
    "            \"ImageURL\": image_url\n",
    "        })\n",
    "    return recommendations\n",
    "\n",
    "# Test the function\n",
    "test_product_id = 'B00LLPT4HI'\n",
    "recommended_products = get_recommendations_with_images(test_product_id)\n",
    "\n",
    "# Display recommendations with images\n",
    "for product in recommended_products:\n",
    "    print(f\"Product ID: {product['ProductId']}\")\n",
    "    print(f\"Product Type: {product['ProductType']}\")\n",
    "    print(f\"Rating: {product['Rating']}\")\n",
    "    display(Image(url=product['ImageURL']))\n"
   ]
  },
  {
   "cell_type": "code",
   "execution_count": null,
   "id": "fdc92c93",
   "metadata": {},
   "outputs": [],
   "source": []
  },
  {
   "cell_type": "code",
   "execution_count": null,
   "id": "1ed7a865",
   "metadata": {},
   "outputs": [],
   "source": []
  }
 ],
 "metadata": {
  "kernelspec": {
   "display_name": "Python 3 (ipykernel)",
   "language": "python",
   "name": "python3"
  },
  "language_info": {
   "codemirror_mode": {
    "name": "ipython",
    "version": 3
   },
   "file_extension": ".py",
   "mimetype": "text/x-python",
   "name": "python",
   "nbconvert_exporter": "python",
   "pygments_lexer": "ipython3",
   "version": "3.11.5"
  }
 },
 "nbformat": 4,
 "nbformat_minor": 5
}
